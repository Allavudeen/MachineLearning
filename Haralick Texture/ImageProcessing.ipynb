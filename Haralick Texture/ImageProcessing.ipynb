{
  "nbformat": 4,
  "nbformat_minor": 0,
  "metadata": {
    "colab": {
      "provenance": [],
      "authorship_tag": "ABX9TyOXjzGIw2buwwarCLYYfkSF",
      "include_colab_link": true
    },
    "kernelspec": {
      "name": "python3",
      "display_name": "Python 3"
    },
    "language_info": {
      "name": "python"
    }
  },
  "cells": [
    {
      "cell_type": "markdown",
      "metadata": {
        "id": "view-in-github",
        "colab_type": "text"
      },
      "source": [
        "<a href=\"https://colab.research.google.com/github/Allavudeen/MachineLearning/blob/main/FirstTest.ipynb\" target=\"_parent\"><img src=\"https://colab.research.google.com/assets/colab-badge.svg\" alt=\"Open In Colab\"/></a>"
      ]
    },
    {
      "cell_type": "code",
      "execution_count": null,
      "metadata": {
        "id": "IxbtviUE0iYt",
        "outputId": "a2f7144a-bd12-4d0e-d139-9e9efc6fa781",
        "colab": {
          "base_uri": "https://localhost:8080/"
        }
      },
      "outputs": [
        {
          "output_type": "stream",
          "name": "stdout",
          "text": [
            "Success\n"
          ]
        }
      ],
      "source": [
        "print(\"Success\")"
      ]
    },
    {
      "cell_type": "code",
      "source": [
        "print(\"Git hub integration is done with colab successfully\")"
      ],
      "metadata": {
        "id": "VfjKDl3XPaYI",
        "outputId": "bf8e8af5-118a-423a-c434-a0e6db24386b",
        "colab": {
          "base_uri": "https://localhost:8080/"
        }
      },
      "execution_count": 1,
      "outputs": [
        {
          "output_type": "stream",
          "name": "stdout",
          "text": [
            "Git hub integration is done with colab successfully\n"
          ]
        }
      ]
    }
  ]
}
