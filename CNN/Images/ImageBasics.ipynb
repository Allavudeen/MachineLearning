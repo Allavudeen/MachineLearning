{
  "nbformat": 4,
  "nbformat_minor": 0,
  "metadata": {
    "colab": {
      "provenance": [],
      "authorship_tag": "ABX9TyOiz8GfvBogWXmzfUkCncKC",
      "include_colab_link": true
    },
    "kernelspec": {
      "name": "python3",
      "display_name": "Python 3"
    },
    "language_info": {
      "name": "python"
    }
  },
  "cells": [
    {
      "cell_type": "markdown",
      "metadata": {
        "id": "view-in-github",
        "colab_type": "text"
      },
      "source": [
        "<a href=\"https://colab.research.google.com/github/Allavudeen/MachineLearning/blob/main/CNN/Images/ImageBasics.ipynb\" target=\"_parent\"><img src=\"https://colab.research.google.com/assets/colab-badge.svg\" alt=\"Open In Colab\"/></a>"
      ]
    },
    {
      "cell_type": "code",
      "execution_count": 1,
      "metadata": {
        "id": "IxbtviUE0iYt",
        "outputId": "c3c0491b-3656-4784-c632-caa2bce56877",
        "colab": {
          "base_uri": "https://localhost:8080/"
        }
      },
      "outputs": [
        {
          "output_type": "stream",
          "name": "stdout",
          "text": [
            "Numpy Version : 2.0.2\n",
            "Open CV Version : 4.12.0\n"
          ]
        }
      ],
      "source": [
        "import numpy\n",
        "import cv2\n",
        "print (\"Numpy Version :\", numpy.__version__)\n",
        "print (\"Open CV Version :\", cv2.__version__)"
      ]
    },
    {
      "cell_type": "code",
      "source": [
        "import matplotlib.pyplot as plt"
      ],
      "metadata": {
        "id": "VfjKDl3XPaYI"
      },
      "execution_count": 2,
      "outputs": []
    },
    {
      "cell_type": "code",
      "source": [
        "# Load the image in RGB format\n",
        "\n",
        "img = cv2.imread('https://images.pexels.com/photos/7199194/pexels-photo-7199194.jpeg')\n",
        "\n",
        "# Check if the image was loaded correctly\n",
        "if img is None:\n",
        "    print(\"Error: Could not load image. Please check the file path.\")\n",
        "else:\n",
        "    # convert BGR to RGB for plotting\n",
        "    img = cv2.cvtColor(img, cv2.COLOR_BGR2RGB)"
      ],
      "metadata": {
        "colab": {
          "base_uri": "https://localhost:8080/"
        },
        "id": "-iQx8VXRPw2T",
        "outputId": "1b9d6df3-f9ad-4c1c-a694-729b526fbdf1"
      },
      "execution_count": 7,
      "outputs": [
        {
          "output_type": "stream",
          "name": "stdout",
          "text": [
            "Error: Could not load image. Please check the file path.\n"
          ]
        }
      ]
    },
    {
      "cell_type": "code",
      "source": [
        "# create blank channels\n",
        "\n",
        "blank = img.copy()\n",
        "blank[:,:,0] = 0 #Removes Red\n",
        "blank[:,:,1] = 0 #Removes Green\n",
        "blank[:,:,2] = 0 #Removes Blue"
      ],
      "metadata": {
        "id": "Orz9ZxZPQP7j"
      },
      "execution_count": null,
      "outputs": []
    },
    {
      "cell_type": "code",
      "source": [],
      "metadata": {
        "id": "-sqevsSmQq1c"
      },
      "execution_count": null,
      "outputs": []
    }
  ]
}