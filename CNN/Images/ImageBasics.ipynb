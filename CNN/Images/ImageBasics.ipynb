{
  "nbformat": 4,
  "nbformat_minor": 0,
  "metadata": {
    "colab": {
      "provenance": [],
      "authorship_tag": "ABX9TyOiNI0vNCt5ACuIfQJOu1ov",
      "include_colab_link": true
    },
    "kernelspec": {
      "name": "python3",
      "display_name": "Python 3"
    },
    "language_info": {
      "name": "python"
    }
  },
  "cells": [
    {
      "cell_type": "markdown",
      "metadata": {
        "id": "view-in-github",
        "colab_type": "text"
      },
      "source": [
        "<a href=\"https://colab.research.google.com/github/Allavudeen/MachineLearning/blob/main/CNN/Images/ImageBasics.ipynb\" target=\"_parent\"><img src=\"https://colab.research.google.com/assets/colab-badge.svg\" alt=\"Open In Colab\"/></a>"
      ]
    },
    {
      "cell_type": "code",
      "execution_count": null,
      "metadata": {
        "id": "IxbtviUE0iYt",
        "outputId": "a2f7144a-bd12-4d0e-d139-9e9efc6fa781",
        "colab": {
          "base_uri": "https://localhost:8080/"
        }
      },
      "outputs": [
        {
          "output_type": "stream",
          "name": "stdout",
          "text": [
            "Success\n"
          ]
        }
      ],
      "source": [
        "import numpy\n",
        "import cv2\n",
        "print (\"Numpy Version :\", numpy.__version__)\n",
        "print (\"Open CV Version :\", cv2.__version__)"
      ]
    },
    {
      "cell_type": "code",
      "source": [
        "import matplotlib.pyplot as plt"
      ],
      "metadata": {
        "id": "VfjKDl3XPaYI",
        "outputId": "bf8e8af5-118a-423a-c434-a0e6db24386b",
        "colab": {
          "base_uri": "https://localhost:8080/"
        }
      },
      "execution_count": null,
      "outputs": [
        {
          "output_type": "stream",
          "name": "stdout",
          "text": [
            "Git hub integration is done with colab successfully\n"
          ]
        }
      ]
    },
    {
      "cell_type": "code",
      "source": [
        "# Load the image in RGB format\n",
        "\n",
        "img = cv2.imread('img.jpg')\n",
        "\n",
        "# convert BGR to RGB for plotting\n",
        "img = cv2.cvtColor(img, cv2.COLOR_BGR2RGB)"
      ],
      "metadata": {
        "id": "-iQx8VXRPw2T"
      },
      "execution_count": null,
      "outputs": []
    },
    {
      "cell_type": "code",
      "source": [
        "# create blank channels\n",
        "\n",
        "blank = img.copy()\n",
        "blank[:,:,0] = 0 #Removes Red\n",
        "blank[:,:,1] = 0 #Removes Green\n",
        "blank[:,:,2] = 0 #Removes Blue"
      ],
      "metadata": {
        "id": "Orz9ZxZPQP7j"
      },
      "execution_count": null,
      "outputs": []
    },
    {
      "cell_type": "code",
      "source": [],
      "metadata": {
        "id": "-sqevsSmQq1c"
      },
      "execution_count": null,
      "outputs": []
    }
  ]
}